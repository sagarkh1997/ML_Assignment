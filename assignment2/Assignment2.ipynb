{
 "cells": [
  {
   "cell_type": "markdown",
   "id": "rapid-prague",
   "metadata": {
    "id": "rapid-prague"
   },
   "source": [
    "# Programming Assignment 2\n",
    "\n",
    "In this assignment, you will:\n",
    "\n",
    "1. Practice writing code to train and evaluate models using both the two-way holdout method, and an evaluation approach appropriate for models with hyperparameters that uses k-fold cross validation plus a test set.\n",
    "\n",
    "2. Practice writing code to optimize a machine learning model. In particular, we will use gradient descent to optimize a logistic regression model.\n",
    "\n",
    "3. **574 Only**: Perform optimization with a different algorithm (Newton-Raphson)\n",
    "\n",
    "# Resources you can use to complete this assignment (a COMPLETE list)\n",
    "\n",
    "**NOTE: You ARE allowed to use Google to find things that fit this list (i.e. it is often easy to google something like \"plotly draw line graph\" to find the right part of the plotly documentation).**\n",
    "\n",
    "- Anything linked to in this article\n",
    "- Anything linked to from the course web page\n",
    "- Any materials from another online course taught at a university (**if you use this, you MUST provide a link to the exact document used**)\n",
    "- Anything posted by Kenny, Navid, or Yincheng on Piazza\n"
   ]
  },
  {
   "cell_type": "markdown",
   "id": "everyday-packing",
   "metadata": {
    "id": "everyday-packing"
   },
   "source": [
    "\n",
    "# Grading\n",
    "\n",
    "For grading of code in Part 2, we will execute the submitted notebook as follows:\n",
    "\n",
    "```shell\n",
    "jupyter nbconvert --to python Assignment2-Student.ipynb\n",
    "python Assignment2-Student.py\n",
    "```\n",
    "\n",
    "The PDF that comes along with this document has other details on the points awarded for each part.\n",
    "\n",
    "As such, you will submit, one member of your group will subit as a zip file on UBLearns, a ```.zip``` file that contains 4 things:\n",
    "- Your completed jupyter notebook.\n",
    "- Your written report, answering all questions asked here (and copied in the assignment PDF)\n",
    "- `part_1.1_results.csv`\n",
    "- `part_1.4_results.csv`\n"
   ]
  },
  {
   "cell_type": "markdown",
   "id": "adjustable-double",
   "metadata": {
    "id": "adjustable-double"
   },
   "source": [
    "# Part 1 - Predicting Review Scores on Pitchfork\n",
    "\n",
    "For Part 1, we will be using data from [this paper](https://ojs.aaai.org/index.php/ICWSM/article/view/7355). The data is a collection of reviews from [Pitchfork](https://pitchfork.com/), a site that provides expert reviews of music album. The authors of this paper have also combined the data with a set of features from [Spotify’s API](https://developer.spotify.com/documentation/web-api/) that provide insight into the music itself, e.g. the \"acousticness\" of the song.  We will tackle a regression problem here, trying to predict the score of a review from several of the other columns in the dataset.\n",
    "\n",
    "## Part 1.1 - Feature Engineering with Feature Subsets\n",
    "\n",
    "In the first subsection of Part 1, we’re going to rely on our old friend linear regression. We’re going to look at how running linear regression with various subsets of our features impacts our ability to predict score.\n",
    "\n",
    "In Part 1.1, your task is to write code below that trains a separate linear regression model for a number of different feature subsets.  Specifically:\n",
    "\n",
    "- The list `feature_sets` below is a list of lists; each sublist is a different subset of features to build a model with. \n",
    "- All models should be trained on the dataset `part1_train.csv`. \n",
    "- For each of these trained models, you should evaluate the model’s predictions on the training dataset, as well as the provided test set, called `part1_test.csv`. The evaluation metric we will use is **root mean squared error**.  \n",
    "\n",
    "Write out the result to a file called `part_1.1_results.csv` and submit this along with your assignment. The file should have the following columns:\n",
    "- `feature_set` - a column describing the features of the model used. For feature sets with multiple features, combine them using an underscore (you can do this with the code `\"_\".join(feature_set)`)\n",
    "- `training_rmse` - a column that gives the RMSE of a linear regression model trained on this feature set on the training data\n",
    "- `test_rmse` - a column that gives the RMSE of a linear regression model trained on this feature set on the test data\n",
    "\n",
    "In addition, please answer the following questions:\n",
    "- **1.1.1** Which model had the best RMSE on the *training data*? \n",
    "- **1.1.2** Which model had the best RMSE on the *test data*? \n",
    "- **1.1.3** Which feature do you believe was the most important one? Why? *(Note: There is more than one perfectly acceptable way to answer this question)*\n",
    "- **1.1.4** What can we say about the utility of the Spotify features based on these results?"
   ]
  },
  {
   "cell_type": "code",
   "execution_count": 3,
   "id": "waiting-bunch",
   "metadata": {
    "id": "waiting-bunch"
   },
   "outputs": [],
   "source": [
    "feature_sets = [['artist'],\n",
    " ['reviewauthor'],\n",
    " ['releaseyear'],\n",
    " ['recordlabel'],\n",
    " ['genre'],\n",
    " ['danceability'],\n",
    " ['energy'],\n",
    " ['key'],\n",
    " ['loudness'],\n",
    " ['speechiness'],\n",
    " ['acousticness'],\n",
    " ['instrumentalness'],\n",
    " ['liveness'],\n",
    " ['valence'],\n",
    " ['tempo'],\n",
    " ['danceability','energy','key','loudness','speechiness','acousticness',\n",
    "  'instrumentalness','liveness','valence','tempo'],\n",
    " ['artist', 'reviewauthor', 'releaseyear', 'recordlabel', 'genre'],\n",
    " ['artist', 'reviewauthor', 'releaseyear', 'recordlabel', 'genre', 'danceability', \n",
    "  'energy', 'key', 'loudness', 'speechiness', 'acousticness', 'instrumentalness',\n",
    "  'liveness', 'valence', 'tempo']]"
   ]
  },
  {
   "cell_type": "code",
   "execution_count": 4,
   "id": "xeSIbkggsdjb",
   "metadata": {
    "id": "xeSIbkggsdjb"
   },
   "outputs": [],
   "source": [
    "import pandas as pd\n",
    "import numpy as np\n",
    "import matplotlib.pyplot as plt\n",
    "import numpy as np\n",
    "import os\n",
    "from sklearn.compose import ColumnTransformer,make_column_transformer\n",
    "from sklearn.linear_model import LinearRegression\n",
    "from sklearn.metrics import mean_squared_error\n",
    "from sklearn.pipeline import Pipeline, make_pipeline\n",
    "from sklearn.preprocessing import StandardScaler, OneHotEncoder\n",
    "from sklearn.model_selection import validation_curve, learning_curve\n",
    "\n",
    "# Convenience things for you, note that releaseyear is continuous but is not a Spotify API variable\n",
    "#os.chdir('D://Games//PythonProgramming//assignment2')\n",
    "CONTINUOUS_FEATURES = ['releaseyear', 'danceability', 'energy', 'key', 'loudness',\n",
    "       'speechiness', 'acousticness', 'instrumentalness', 'liveness',\n",
    "       'valence', 'tempo']\n",
    "CATEGORICAL_FEATURES = ['artist', 'reviewauthor', 'recordlabel', 'genre']\n",
    "\n",
    "# Read in the data\n",
    "training_data = pd.read_csv(\"part1_train.csv\")\n",
    "scaler = StandardScaler()\n",
    "encoder = OneHotEncoder(sparse=False,handle_unknown='ignore')\n",
    "y_training = training_data['score']\n",
    "test_data = pd.read_csv(\"part1_test.csv\")\n",
    "\n",
    "y_test = test_data['score']\n",
    "\n",
    "regression = LinearRegression()\n",
    "rmse_train = []\n",
    "rmse_test = []\n",
    "features_for_csv = []\n",
    "for feature_set in feature_sets:\n",
    "    #Write your code for Part 1.1 here!\n",
    "    features_for_csv.append(\"_\".join(feature_set))\n",
    "    continuous = [feature for feature in feature_set if feature in CONTINUOUS_FEATURES]\n",
    "    categorical = [feature for feature in feature_set if feature in CATEGORICAL_FEATURES]\n",
    "    ct = make_column_transformer((scaler,continuous),(encoder,categorical),remainder='passthrough')\n",
    "    training_data_feature = training_data[continuous+categorical]\n",
    "    training_data_feature_scaled = ct.fit_transform(training_data_feature)\n",
    "    testing_data_feature = test_data[continuous+categorical]\n",
    "    testing_data_feature_scaled = ct.transform(testing_data_feature)\n",
    "#     print(training_data_feature_scaled.shape,testing_data_feature_scaled.shape)\n",
    "    regression.fit(training_data_feature_scaled,y_training)\n",
    "    prediction_on_train = regression.predict(training_data_feature_scaled)\n",
    "    rmse_train.append(mean_squared_error(prediction_on_train,y_training))\n",
    "    prediction_on_test = regression.predict(testing_data_feature_scaled)\n",
    "    rmse_test.append(mean_squared_error(prediction_on_test,y_test))\n",
    "    pass\n",
    "rmse_train = np.array(rmse_train)\n",
    "rmse_test = np.array(rmse_test)\n",
    "features_for_csv = np.array(features_for_csv)\n",
    "df = pd.DataFrame({'feature_set':features_for_csv,'rmse_train':rmse_train,'rmse_test':rmse_test})\n",
    "df.to_csv('part_1.1_results')"
   ]
  },
  {
   "cell_type": "markdown",
   "id": "addressed-mercy",
   "metadata": {
    "id": "addressed-mercy"
   },
   "source": [
    "## Part 1.2 - Feature Engineering with the LASSO\n",
    "\n",
    "In Part 1.2, your task is to write code below that trains an L1-regularized linear regression model, with an expanded feature set.  Specifically:\n",
    "\n",
    "1. Begin with the final feature set listed in `feature_sets` (i.e. your feature set, to begin this section, is `feature_sets[-1]`.\n",
    "2. One-hot encode your categorical variables, setting `drop=if_binary` and `sparse=False` in the function arguments. \n",
    "3. Scale all of your continuous features using the `StandardScaler`.\n",
    "4. Train an L1-regularized linear regression model using these features on the dataset `part1_train.csv`. You should use the [LassoCV](https://scikit-learn.org/stable/modules/generated/sklearn.linear_model.LassoCV.html) class in `sklearn`, it will do the cross-validation necessary to select the appropriate value for the regularizer for you!  Use 10-fold cross-validation to perform model selection (set the `LassoCV` parmaeter `cv` to 10), and set the `random_state` to 1. Do not change any of the other parameters to `LassoCV` (i.e. leave them at their defaults).\n",
    "5. Identify the best `alpha` value (the regularizer term, according to `sklearn`. In class, we refer to this as $\\lambda$!) in terms of average mean squared error according to the cross-validation.\n",
    "6. Finally, train a [Lasso](https://scikit-learn.org/stable/modules/generated/sklearn.linear_model.Lasso.html) model on the entire training dataset (`part1_train.csv`). You will use this to report the root mean squared error on the test set (Question 1.2.4 below), and use it in Part 1.3 below as well.\n",
    "\n",
    "**Hint: The proceedure outlined above is very similar to ones we have discussed in class and shown how to do using `Pipeline`s.** \n"
   ]
  },
  {
   "cell_type": "code",
   "execution_count": 5,
   "id": "loose-width",
   "metadata": {
    "colab": {
     "base_uri": "https://localhost:8080/"
    },
    "id": "loose-width",
    "outputId": "263f9596-b0fe-4aaf-cc9f-a1ef25be617e"
   },
   "outputs": [
    {
     "name": "stdout",
     "output_type": "stream",
     "text": [
      "(16270, 15)\n",
      "(16270, 691)\n",
      "1.1649797995719675\n",
      "1.1229212879739903\n"
     ]
    }
   ],
   "source": [
    "# Write your code for Part 1.2 here\n",
    "from sklearn.linear_model import LassoCV, Lasso\n",
    "from sklearn.preprocessing import StandardScaler, OneHotEncoder\n",
    "\n",
    "# Do the CV to find alpha\n",
    "features = feature_sets[-1]\n",
    "continuous = [feature for feature in features if feature in CONTINUOUS_FEATURES]\n",
    "encoder = OneHotEncoder(sparse=False,drop='if_binary')\n",
    "categorical = [feature for feature in features if feature in CATEGORICAL_FEATURES]\n",
    "data_training = training_data[continuous+categorical]\n",
    "print(data_training.shape)\n",
    "data_test = test_data[continuous+categorical]\n",
    "ct = make_column_transformer((scaler,continuous),(encoder,categorical),remainder='passthrough')\n",
    "data_training_scaled = ct.fit_transform(data_training)\n",
    "print(data_training_scaled.shape)\n",
    "data_test_scaled = ct.transform(data_test) \n",
    "# l1_penalties = np.logspace(-3, 3, num=15)\n",
    "regression_pipeline = LassoCV(random_state=1,cv=10) \n",
    "regression_pipeline.fit(data_training_scaled,y_training)\n",
    "\n",
    "best_alpha = regression_pipeline.alpha_\n",
    "train_rmse = np.sqrt(mean_squared_error(y_training,regression_pipeline.predict(data_training_scaled)))\n",
    "test_rmse = np.sqrt(mean_squared_error(y_test, regression_pipeline.predict(data_test_scaled)))\n",
    "print(test_rmse)\n",
    "print(train_rmse)"
   ]
  },
  {
   "cell_type": "markdown",
   "id": "distinct-functionality",
   "metadata": {
    "id": "distinct-functionality"
   },
   "source": [
    "Now, answer the following questions:\n",
    "- **1.2.1** - How many total features are introduced by Step 2 above? Provide both the number and an explanation of how you got to this number.\n",
    "- **1.2.2** - What was the best `alpha` value according to your cross-validation results?\n",
    "- **1.2.3** - What was the **average RMSE** of the model with this `alpha` value on the k-fold cross validation on the *training* data?\n",
    "- **1.2.4** - What was the **RMSE** of the model with this `alpha` value on the k-fold cross validation on the *test* data?\n"
   ]
  },
  {
   "cell_type": "markdown",
   "id": "floating-vinyl",
   "metadata": {
    "id": "floating-vinyl"
   },
   "source": [
    "# Part 1.3 - Interpreting Model Coefficents\n",
    "\n",
    "In this section we will interpret the coefficients from the final model you trained on all of the training data.\n",
    "\n",
    "- **1.3.1** - How many non-zero coefficients are in this final model?\n",
    "- **1.3.2** - What percentage of the coefficients are non-zero in this final model?\n",
    "- **1.3.3** - Who were the three most critical review authors, as estimated by the model? How do you know?\n",
    "- **1.3.4** - Who were the three artists that reviewers tended to like the most?  How do you know?\n",
    "- **1.3.5** - What genre did Pitchfork reviewers tend to like the most? Which genre did they like the least?\n"
   ]
  },
  {
   "cell_type": "code",
   "execution_count": 6,
   "id": "formal-stable",
   "metadata": {
    "id": "formal-stable"
   },
   "outputs": [
    {
     "name": "stdout",
     "output_type": "stream",
     "text": [
      "484\n",
      "0.7004341534008683\n"
     ]
    }
   ],
   "source": [
    "# Code for 1.3 here\n",
    "#1.3.1\n",
    "coefficients = np.array(regression_pipeline.coef_)\n",
    "print(np.count_nonzero(coefficients))\n",
    "#1.3.2\n",
    "print(np.count_nonzero(coefficients)/len(coefficients))\n",
    "#1.3.3\n",
    "\n"
   ]
  },
  {
   "cell_type": "markdown",
   "id": "appropriate-lesbian",
   "metadata": {
    "id": "appropriate-lesbian"
   },
   "source": [
    "# Part 1.4 - \"Manual\" Cross-Validation + Holdout for Model Selection and Evaluation\n",
    "\n",
    "We will finally use cross validation for both algorithm and model selection, with a hold-out test set for a final evaluation. We will use **5-fold cross validation** to identify the best parameters and hyperparameters for a set of models. We will then take our final models and use a final hold-out test set (the same one as above) to estimate the generalization error of the models.\n",
    "\n",
    "Specifically, your task is first to write code that trains and evaluates the following models, one for each of the specified hyper parameters sets:\n",
    "\n",
    "- `Decision Tree regression` - All combinations of a `max_depth` of 5, 10, or 20, and a `criterion` of `\"squared error\"` or `\"absolute error\"`. Use the [DecisionTreeRegressor](https://scikit-learn.org/stable/modules/generated/sklearn.tree.DecisionTreeRegressor.html#sklearn.tree.DecisionTreeRegressor).\n",
    "- Ridge regression - Use the following choices of L2 penalty: $[10^{-5}, 10^{-4}, ..., 10^4, 10^5]$. In Python, you can create a list of these numbers using `np.logspace(-5, 5, 11)`. Use the [Ridge](https://scikit-learn.org/stable/modules/generated/sklearn.linear_model.Ridge.html#sklearn.linear_model.Ridge) class from sklearn to train a Ridge Regression model. The parameters you need to pass when constructing the Ridge model are `alpha`, which lets you specify what you want the L2 penalty to be, and `random_state=0` to avoid randomness.\n",
    "- kNN regression - Values of `n_neighbors` of 1, 5, 10, and 15. Use the [KNeighborsRegressor](https://scikit-learn.org/stable/modules/generated/sklearn.neighbors.KNeighborsRegressor.html) class.\n",
    "\n",
    "Additional notes:\n",
    "1. All models should use the feature sets described in Part 1.3 (the same ...one-hot encoded... categorical variables, and the scaled continuous variables)\n",
    "2. As opposed to using the `KFold` class from `sklearn` like we did in class, we have instead provided you with pre-existing data sets; you should therefore use the pre-split data in the provided CSV files ``1.2_fold0.csv ... 1.2_fold4.csv``\n",
    "\n",
    "**What to submit**:\n",
    "\n",
    "1. Write out the result to a file called `part_1.4_results.csv` and submit this along with your assignment. The file should have the following columns:\n",
    "- `model_name` - The name of the model, one of `DTR` (Decision Tree Regression), `Ridge`, or `KNN`.\n",
    "- `hyperparameter_setting` - a column describing the hyperparameters of the model. For models with multiple hyperparameters, combine them using an underscore (you can do this with the code `\"_\".join(hyperparameters)`).\n",
    "- `mean_training_rmse` - a column that gives the mean RMSE on the k-fold training data. You should take the average of the model’s errors on the different folds, using root mean squared error again as your evaluation metric.\n",
    "- `sd_training_rmse` - a column that gives the standard deviation RMSE on the k-fold training data.\n",
    "- `test_rmse` - a column that gives the RMSE of a linear regression model trained on this feature set on the test data\n",
    "\n",
    "\n",
    "2. Answer the following questions:\n",
    "- **1.4.1** Report, for each model, the hyper parameter setting that resulted in the best performance\n",
    "- **1.4.2** Which model performed the best overall on the cross-validation? \n",
    "- **1.4.3** Which model performed the best overall on the final test set? \n",
    "- **1.4.4** With respect to your answer for 1.4.3, why do you think that might be? (*Note: there is more than one correct way to answer this question*)\n",
    "- **1.4.5** Which model/hyperparameter setting had the highest standard deviation across the different folds of the cross validation?\n",
    "- **1.4.6** With respect to your answer for 1.4.6, why do you think that might be? (*Note: there is more than one correct way to answer this question*)"
   ]
  },
  {
   "cell_type": "code",
   "execution_count": 9,
   "id": "bfMe22fCKteK",
   "metadata": {
    "id": "bfMe22fCKteK"
   },
   "outputs": [
    {
     "ename": "AttributeError",
     "evalue": "'NoneType' object has no attribute 'fit'",
     "output_type": "error",
     "traceback": [
      "\u001b[1;31m---------------------------------------------------------------------------\u001b[0m",
      "\u001b[1;31mAttributeError\u001b[0m                            Traceback (most recent call last)",
      "\u001b[1;32mc:\\Users\\17164\\Desktop\\Python\\ML_Assignment\\assignment2\\assignment2\\Assignment2.ipynb Cell 12'\u001b[0m in \u001b[0;36m<cell line: 57>\u001b[1;34m()\u001b[0m\n\u001b[0;32m     <a href='vscode-notebook-cell:/c%3A/Users/17164/Desktop/Python/ML_Assignment/assignment2/assignment2/Assignment2.ipynb#ch0000011?line=57'>58</a>\u001b[0m     \u001b[39mfor\u001b[39;00m neighbor \u001b[39min\u001b[39;00m neighbors:\n\u001b[0;32m     <a href='vscode-notebook-cell:/c%3A/Users/17164/Desktop/Python/ML_Assignment/assignment2/assignment2/Assignment2.ipynb#ch0000011?line=58'>59</a>\u001b[0m         knn_pipeline \u001b[39m=\u001b[39m knn_pipe_function(neighbor)\n\u001b[1;32m---> <a href='vscode-notebook-cell:/c%3A/Users/17164/Desktop/Python/ML_Assignment/assignment2/assignment2/Assignment2.ipynb#ch0000011?line=59'>60</a>\u001b[0m         knn_pipeline\u001b[39m.\u001b[39;49mfit(train_folds[i],y_trains[i])\n\u001b[0;32m     <a href='vscode-notebook-cell:/c%3A/Users/17164/Desktop/Python/ML_Assignment/assignment2/assignment2/Assignment2.ipynb#ch0000011?line=60'>61</a>\u001b[0m         knn_errors\u001b[39m.\u001b[39mappend(np\u001b[39m.\u001b[39msqrt(knn_pipeline\u001b[39m.\u001b[39mpredict(tests[i]),tests[i]))\n\u001b[0;32m     <a href='vscode-notebook-cell:/c%3A/Users/17164/Desktop/Python/ML_Assignment/assignment2/assignment2/Assignment2.ipynb#ch0000011?line=61'>62</a>\u001b[0m \u001b[39mprint\u001b[39m(knn_errors)\n",
      "\u001b[1;31mAttributeError\u001b[0m: 'NoneType' object has no attribute 'fit'"
     ]
    }
   ],
   "source": [
    "from sklearn.model_selection import cross_val_score\n",
    "from sklearn.tree import DecisionTreeRegressor\n",
    "from sklearn.linear_model import Ridge\n",
    "from sklearn.neighbors import KNeighborsRegressor\n",
    "features=CONTINUOUS_FEATURES+CATEGORICAL_FEATURES\n",
    "#preprocessor = ColumnTransformer(\n",
    "#    transformers=[\n",
    "#        (\"num\", numeric_transformer, selector(dtype_exclude=\"category\")),\n",
    "#        (\"cat\", categorical_transformer, selector(dtype_include=\"category\")),#preprocessor = ColumnTransformer(\n",
    "def dt_pipe_function(depth):\n",
    "    return make_pipeline(new_pipeline, DecisionTreeRegressor(criterion=\"squared_error\", max_depth=depth))\n",
    "\n",
    "def ridge_pipe_function(penalty):\n",
    "    return make_pipeline(new_pipeline, Ridge(alpha=penalty, random_state=0))\n",
    "\n",
    "def knn_pipe_function(neighbour):\n",
    "    make_pipeline(new_pipeline, KNeighborsRegressor(n_neighbors=neighbour))\n",
    "\n",
    "\n",
    "neighbors = [1,5,10,15]\n",
    "penalties = np.logspace(-5,5,11)\n",
    "depth = [5,10,20]\n",
    "new_pipeline=make_pipeline(ColumnTransformer([(scaler,CONTINUOUS_FEATURES),\"cat\",encoder,CATEGORICAL_FEATURES]))\n",
    "test0 = pd.read_csv(\"1.2_fold0.csv\")\n",
    "y_test_0 = test0['score']\n",
    "test1 = pd.read_csv(\"1.2_fold1.csv\")\n",
    "y_test_1 = test1['score']\n",
    "test2 = pd.read_csv(\"1.2_fold2.csv\")\n",
    "y_test_2 = test2['score']\n",
    "test3 = pd.read_csv(\"1.2_fold3.csv\")\n",
    "y_test_3 = test3['score']\n",
    "test4 = pd.read_csv(\"1.2_fold4.csv\")\n",
    "y_test_4 = test4['score']\n",
    "tests = [test0,test1,test2,test3,test4]\n",
    "\n",
    "train_fold_0=test1+test2+test3+test4\n",
    "y_train_fold_0 = train_fold_0['score']\n",
    "train_fold_1=test0+test2+test3+test4\n",
    "y_train_fold_1 = train_fold_1['score']\n",
    "train_fold_2=test0+test1+test3+test4\n",
    "y_train_fold_2 = train_fold_2['score']\n",
    "train_fold_3=test0+test1+test2+test4\n",
    "y_train_fold_3 = train_fold_3['score']\n",
    "train_fold_4=test0+test1+test2+test3\n",
    "y_train_fold_4 = train_fold_4['score']\n",
    "train_folds = [train_fold_0,train_fold_1,train_fold_2,train_fold_3,train_fold_4]\n",
    "y_trains = [y_train_fold_0,y_train_fold_1,y_train_fold_2,y_train_fold_3,y_train_fold_4]\n",
    "#decisiontree\n",
    "# dt_pipeline = make_pipeline(new_pipeline, DecisionTreeRegressor(criterion=\"squared_error\", max_depth=5))\n",
    "# #ridge\n",
    "# ridge_pipeline = make_pipeline(new_pipeline, Ridge(alpha=1, random_state=0))\n",
    "# #knn\n",
    "# KNN_pipeline = make_pipeline(new_pipeline, KNeighborsRegressor(n_neighbors=[]))\n",
    "ridge_errors = []\n",
    "knn_errors = []\n",
    "dt_errors = []\n",
    "for i in range(5):\n",
    "    for neighbor in neighbors:\n",
    "        knn_pipeline = knn_pipe_function(neighbor)\n",
    "        knn_pipeline.fit(train_folds[i],y_trains[i])\n",
    "        knn_errors.append(np.sqrt(knn_pipeline.predict(tests[i]),tests[i]))\n",
    "print(knn_errors)"
   ]
  },
  {
   "cell_type": "markdown",
   "id": "neither-viking",
   "metadata": {
    "id": "neither-viking"
   },
   "source": [
    "# Part 2\n",
    "\n",
    "In class, we have shifted from regression to classification. Here, we're going to get a little practice in optimizing one of the classification models we saw in class - logistic regression. As a reminder...\n",
    "\n",
    "The loss function of logistic regression (also known as the logistic-loss or log-loss) is given by:\n",
    "\\begin{equation}\n",
    "  J({\\bf w}) = \\frac{1}{n}\\sum_{i=1}^n \\log{(1 + \\exp{(-y_i{\\bf w}^\\top{\\bf x}_i}))}\n",
    "  \\label{eqn:logloss}\n",
    "\\end{equation}\n",
    "\n",
    "The gradient for this loss function, as derived in class, is:\n",
    "\\begin{equation}\n",
    "  \\nabla J({\\bf w}) = -\\frac{1}{n}\\sum_{i=1}^n \\frac{y_i}{1 + \\exp{(y_i{\\bf w}^\\top{\\bf x}_i)}}{\\bf x}_i\n",
    "  \\label{eqn:loglossgradient}\n",
    "\\end{equation}\n",
    "\n",
    "\n",
    "The Hessian for the loss function is given by:\n",
    "\\begin{equation}\n",
    "  {\\bf H}({\\bf w}) = \\frac{1}{n} \\sum_{i=1}^n \\frac{\\exp{(y_i{\\bf w}^\\top{\\bf x}_i)}}{(1 + \\exp{(y_i{\\bf w}^\\top{\\bf x}_i)})^2}{\\bf x}_i{\\bf x}_i^\\top\n",
    "  \\label{eqn:loglosshessian}\n",
    "\\end{equation}\n",
    "\n",
    "## Part 2.1 - Logistic Regression with Gradient Descent\n",
    "\n",
    "In Part 2.1 we will implement logistic regression with gradient descent. You need to finish implementing 3 functions:\n",
    "\n",
    "1. `logistic_objective` - compute the logistic loss for the given data set (see equation above)\n",
    "2. `logistic_gradient` - compute the gradient vector of logistic loss for the given data set (see equation above)\n",
    "3. `run_gradient_descent` - run the gradient descent algorithm, given these two functions.\n",
    "\n",
    "We have provided you with some simulation data to evaluate your method with. Part 2.1 will, however, largely be graded by evaluating your code on a slightly different dataset to ensure robustness. \n",
    "\n",
    "In addition, please submit answers to the following questions on your written report:\n",
    "\n",
    "- **2.1.1** - How did you go about selecting a good step size, i.e. one that was not too big or too small? (*Note: There is more than one correct answer to this*)\n",
    "- **2.1.2** - What is the condition under which we assume that the gradient descent algorithm has converged in the code here?\n",
    "- **2.1.3** - What is a different convergence metric we could have used? (*Note: There is more than one correct answer to this*)"
   ]
  },
  {
   "cell_type": "code",
   "execution_count": 9,
   "id": "_ZXld73vq2po",
   "metadata": {
    "id": "_ZXld73vq2po"
   },
   "outputs": [],
   "source": [
    "def logistic_objective(w, X, y):\n",
    "\n",
    "    # compute log-loss error (scalar) with respect\n",
    "    # to w (vector) for the given data X and y                               \n",
    "    # Inputs:\n",
    "    # w = d x 1\n",
    "    # X = N x d\n",
    "    # y = N x 1\n",
    "    # Output:\n",
    "    # error = scalar\n",
    "    n = len(X)\n",
    "#     error = np.log(1+np.exp(np.mutiply(-y,np.dot(w,np.transpose(X))))).mean()\n",
    "#     print('The error from vectorization is ',error)\n",
    "    error_for = 0\n",
    "    for i in range(0,n):\n",
    "        y_i = y[i]\n",
    "        X_i = X[i]\n",
    "        #print('The value of multiplicands are ',w.transpose().shape,X_i.shape)\n",
    "        multi = np.dot(w.transpose(),X_i)\n",
    "        #print('The multi is ',multi,multi.shape)\n",
    "        val = -1*y_i*np.matmul(w.transpose(),X_i)\n",
    "        error_for+= np.log(1+np.exp(val))\n",
    "#    print('The error for is ',error_for/n);\n",
    "    return error_for/n\n",
    "def logistic_gradient(w, X, y):\n",
    "\n",
    "    # compute the gradient of the log-loss error (vector) with respect\n",
    "    # to w (vector) for the given data X and y  \n",
    "    #\n",
    "    # Inputs:\n",
    "    # w = d x 1\n",
    "    # X = N x d\n",
    "    # y = N x 1\n",
    "    # Output:\n",
    "    # error = d length gradient vector (not a d x 1 matrix)\n",
    "    n = len(X)\n",
    "    res = np.array([0,0,0])\n",
    "#    print('THe shapes are ',X.shape, w.shape, y.shape)\n",
    "    for i in range(0,n):\n",
    "        y_i = y[i]\n",
    "        X_i = X[i]\n",
    "        multi = np.dot(w.transpose(),X_i)\n",
    "        val = y_i*np.matmul(w.transpose(),X_i)\n",
    "        den = 1+np.exp(val)\n",
    "#         print('The  value of X_row is ',X_row)\n",
    "#         print('The  value of y_single is ',y_single)\n",
    "#         print('The  value of w_transpose is ',w.transpose())\n",
    "        nume = y_i*X_i\n",
    "        res = res+nume/den\n",
    "    res = (-1/n)*res    \n",
    "    return res\n",
    "def run_gradient_descent(X,y):\n",
    "    old_w = np.array([-1]*X.shape[1])\n",
    "    # change this value! This is an unreasonable step size\n",
    "    step_size = 10\n",
    "    new_w =old_w - 1\n",
    "    error = 1000000\n",
    "    \n",
    "    while ((new_w-old_w)**2).sum() > 0.00000001:\n",
    "        #IMPLEMENT THIS\n",
    "        gradient = logistic_gradient(np.asarray(new_w),X,y)\n",
    "        print(gradient)\n",
    "        old_w = new_w\n",
    "        new_w = np.subtract(new_w,(step_size * gradient))\n",
    "        print('will the loop stop',((new_w-old_w)**2).sum())\n",
    "#       error = logistic_objective(np.asarray(new_w),X,y)\n",
    "        #pass\n",
    "#     print('The new weights is ',new_w)\n",
    "    return new_w\n"
   ]
  },
  {
   "cell_type": "code",
   "execution_count": 10,
   "id": "crude-foundation",
   "metadata": {
    "id": "crude-foundation"
   },
   "outputs": [],
   "source": [
    "from scipy.stats import uniform, bernoulli\n",
    "import functools\n",
    "draw_binary = functools.partial(np.random.binomial,n=1)\n",
    "\n",
    "## Simulated data to test your method\n",
    "DATA_SIZE = 10000\n",
    "x1 = bernoulli(.5).rvs(DATA_SIZE)\n",
    "x2 = np.floor(uniform(18,60).rvs(DATA_SIZE))\n",
    "true_w = [-9, 3.5, 0.2]\n",
    "xb = true_w[0] + true_w[1]*x1 + true_w[2]*x2\n",
    "p = 1/(1 + np.exp(-xb))\n",
    "y = np.array([1 if draw_binary(p=v) else -1 for v in p])"
   ]
  },
  {
   "cell_type": "code",
   "execution_count": 11,
   "id": "noted-newton",
   "metadata": {
    "colab": {
     "base_uri": "https://localhost:8080/"
    },
    "id": "noted-newton",
    "outputId": "22ccca0c-4d2a-4c3e-ae8c-7f66a54b0c95"
   },
   "outputs": [
    {
     "data": {
      "text/plain": [
       "array([[-8.65339243,  3.4131808 ,  0.19202961]])"
      ]
     },
     "execution_count": 11,
     "metadata": {},
     "output_type": "execute_result"
    }
   ],
   "source": [
    "from sklearn.linear_model import LogisticRegression\n",
    "\n",
    "# notice that logistic regression as implemented in sklearn does not get the exact results either!\n",
    "# so you shouldn't worry if you're a bit off\n",
    "X = np.hstack([np.ones((len(xb),1)), x1[:,np.newaxis], x2[:,np.newaxis]])\n",
    "model = LogisticRegression(solver='liblinear', random_state=0,fit_intercept=False)\n",
    "model.fit(X,y).coef_"
   ]
  },
  {
   "cell_type": "code",
   "execution_count": 12,
   "id": "american-locking",
   "metadata": {
    "colab": {
     "base_uri": "https://localhost:8080/",
     "height": 1000
    },
    "id": "american-locking",
    "outputId": "31c1c261-5fbd-4d1f-cbc5-1173e679edc1"
   },
   "outputs": [
    {
     "name": "stdout",
     "output_type": "stream",
     "text": [
      "[ -0.6858  -0.4096 -38.0299]\n",
      "will the loop stop 3617278.469525001\n",
      "[0.3142 0.0882 9.7385]\n",
      "will the loop stop 237362.20782499993\n"
     ]
    },
    {
     "name": "stderr",
     "output_type": "stream",
     "text": [
      "/usr/local/lib/python3.7/dist-packages/ipykernel_launcher.py:44: RuntimeWarning: overflow encountered in exp\n"
     ]
    },
    {
     "name": "stdout",
     "output_type": "stream",
     "text": [
      "[0.3142 0.0882 9.7385]\n",
      "will the loop stop 237362.20782499993\n",
      "[0.3142 0.0882 9.7385]\n",
      "will the loop stop 237362.207825\n",
      "[0.3142 0.0882 9.7385]\n",
      "will the loop stop 237362.207825\n",
      "[ -0.6858  -0.4096 -38.0299]\n",
      "will the loop stop 3617278.469525001\n",
      "[0.3142 0.0882 9.7385]\n",
      "will the loop stop 237362.20782499993\n",
      "[0.3142 0.0882 9.7385]\n",
      "will the loop stop 237362.20782499993\n",
      "[0.3142 0.0882 9.7385]\n",
      "will the loop stop 237362.207825\n",
      "[0.3142 0.0882 9.7385]\n",
      "will the loop stop 237362.207825\n",
      "[ -0.6858  -0.4096 -38.0299]\n",
      "will the loop stop 3617278.469525001\n",
      "[0.3142 0.0882 9.7385]\n",
      "will the loop stop 237362.20782499993\n",
      "[0.3142 0.0882 9.7385]\n",
      "will the loop stop 237362.20782499993\n",
      "[0.3142 0.0882 9.7385]\n",
      "will the loop stop 237362.207825\n",
      "[0.3142 0.0882 9.7385]\n",
      "will the loop stop 237362.207825\n",
      "[ -0.6858  -0.4096 -38.0299]\n",
      "will the loop stop 3617278.469525001\n",
      "[0.3142 0.0882 9.7385]\n",
      "will the loop stop 237362.20782499993\n",
      "[0.3142 0.0882 9.7385]\n",
      "will the loop stop 237362.20782499993\n",
      "[0.3142 0.0882 9.7385]\n",
      "will the loop stop 237362.207825\n",
      "[0.3142 0.0882 9.7385]\n",
      "will the loop stop 237362.207825\n",
      "[ -0.6858  -0.4096 -38.0299]\n",
      "will the loop stop 3617278.469525001\n",
      "[0.3142 0.0882 9.7385]\n",
      "will the loop stop 237362.20782499993\n",
      "[0.3142 0.0882 9.7385]\n",
      "will the loop stop 237362.20782499993\n",
      "[0.3142 0.0882 9.7385]\n",
      "will the loop stop 237362.207825\n",
      "[0.3142 0.0882 9.7385]\n",
      "will the loop stop 237362.207825\n",
      "[ -0.6858  -0.4096 -38.0299]\n",
      "will the loop stop 3617278.469525001\n",
      "[0.3142 0.0882 9.7385]\n",
      "will the loop stop 237362.20782499993\n",
      "[0.3142 0.0882 9.7385]\n",
      "will the loop stop 237362.20782499993\n",
      "[0.3142 0.0882 9.7385]\n",
      "will the loop stop 237362.207825\n",
      "[0.3142 0.0882 9.7385]\n",
      "will the loop stop 237362.207825\n",
      "[ -0.6858  -0.4096 -38.0299]\n",
      "will the loop stop 3617278.469525001\n",
      "[0.3142 0.0882 9.7385]\n",
      "will the loop stop 237362.20782499993\n",
      "[0.3142 0.0882 9.7385]\n",
      "will the loop stop 237362.20782499993\n",
      "[0.3142 0.0882 9.7385]\n",
      "will the loop stop 237362.207825\n",
      "[0.3142 0.0882 9.7385]\n",
      "will the loop stop 237362.207825\n",
      "[ -0.6858  -0.4096 -38.0299]\n",
      "will the loop stop 3617278.469525001\n",
      "[0.3142 0.0882 9.7385]\n",
      "will the loop stop 237362.20782499993\n",
      "[0.3142 0.0882 9.7385]\n",
      "will the loop stop 237362.20782499993\n",
      "[0.3142 0.0882 9.7385]\n",
      "will the loop stop 237362.207825\n",
      "[0.3142 0.0882 9.7385]\n",
      "will the loop stop 237362.207825\n",
      "[ -0.6858  -0.4096 -38.0299]\n",
      "will the loop stop 3617278.469525001\n",
      "[0.3142 0.0882 9.7385]\n",
      "will the loop stop 237362.20782499993\n",
      "[0.3142 0.0882 9.7385]\n",
      "will the loop stop 237362.20782499993\n"
     ]
    },
    {
     "ename": "KeyboardInterrupt",
     "evalue": "ignored",
     "output_type": "error",
     "traceback": [
      "\u001b[0;31m---------------------------------------------------------------------------\u001b[0m",
      "\u001b[0;31mKeyboardInterrupt\u001b[0m                         Traceback (most recent call last)",
      "\u001b[0;32m<ipython-input-12-3d8859a99b87>\u001b[0m in \u001b[0;36m<module>\u001b[0;34m()\u001b[0m\n\u001b[1;32m      1\u001b[0m \u001b[0;31m# this is how we will test your results\u001b[0m\u001b[0;34m\u001b[0m\u001b[0;34m\u001b[0m\u001b[0;34m\u001b[0m\u001b[0m\n\u001b[0;32m----> 2\u001b[0;31m \u001b[0mgd_result\u001b[0m \u001b[0;34m=\u001b[0m \u001b[0mrun_gradient_descent\u001b[0m\u001b[0;34m(\u001b[0m\u001b[0mX\u001b[0m\u001b[0;34m,\u001b[0m\u001b[0my\u001b[0m\u001b[0;34m)\u001b[0m\u001b[0;34m\u001b[0m\u001b[0;34m\u001b[0m\u001b[0m\n\u001b[0m\u001b[1;32m      3\u001b[0m \u001b[0;31m# is your result relatively close to the truth?\u001b[0m\u001b[0;34m\u001b[0m\u001b[0;34m\u001b[0m\u001b[0;34m\u001b[0m\u001b[0m\n\u001b[1;32m      4\u001b[0m \u001b[0mnp\u001b[0m\u001b[0;34m.\u001b[0m\u001b[0mabs\u001b[0m\u001b[0;34m(\u001b[0m\u001b[0mtrue_w\u001b[0m\u001b[0;34m-\u001b[0m\u001b[0mgd_result\u001b[0m\u001b[0;34m)\u001b[0m\u001b[0;34m.\u001b[0m\u001b[0msum\u001b[0m\u001b[0;34m(\u001b[0m\u001b[0;34m)\u001b[0m\u001b[0;34m\u001b[0m\u001b[0;34m\u001b[0m\u001b[0m\n",
      "\u001b[0;32m<ipython-input-9-c68e84a7c35e>\u001b[0m in \u001b[0;36mrun_gradient_descent\u001b[0;34m(X, y)\u001b[0m\n\u001b[1;32m     59\u001b[0m     \u001b[0;32mwhile\u001b[0m \u001b[0;34m(\u001b[0m\u001b[0;34m(\u001b[0m\u001b[0mnew_w\u001b[0m\u001b[0;34m-\u001b[0m\u001b[0mold_w\u001b[0m\u001b[0;34m)\u001b[0m\u001b[0;34m**\u001b[0m\u001b[0;36m2\u001b[0m\u001b[0;34m)\u001b[0m\u001b[0;34m.\u001b[0m\u001b[0msum\u001b[0m\u001b[0;34m(\u001b[0m\u001b[0;34m)\u001b[0m \u001b[0;34m>\u001b[0m \u001b[0;36m0.00001\u001b[0m\u001b[0;34m:\u001b[0m\u001b[0;34m\u001b[0m\u001b[0;34m\u001b[0m\u001b[0m\n\u001b[1;32m     60\u001b[0m         \u001b[0;31m#IMPLEMENT THIS\u001b[0m\u001b[0;34m\u001b[0m\u001b[0;34m\u001b[0m\u001b[0;34m\u001b[0m\u001b[0m\n\u001b[0;32m---> 61\u001b[0;31m         \u001b[0mgradient\u001b[0m \u001b[0;34m=\u001b[0m \u001b[0mlogistic_gradient\u001b[0m\u001b[0;34m(\u001b[0m\u001b[0mnp\u001b[0m\u001b[0;34m.\u001b[0m\u001b[0masarray\u001b[0m\u001b[0;34m(\u001b[0m\u001b[0mnew_w\u001b[0m\u001b[0;34m)\u001b[0m\u001b[0;34m,\u001b[0m\u001b[0mX\u001b[0m\u001b[0;34m,\u001b[0m\u001b[0my\u001b[0m\u001b[0;34m)\u001b[0m\u001b[0;34m\u001b[0m\u001b[0;34m\u001b[0m\u001b[0m\n\u001b[0m\u001b[1;32m     62\u001b[0m         \u001b[0mprint\u001b[0m\u001b[0;34m(\u001b[0m\u001b[0mgradient\u001b[0m\u001b[0;34m)\u001b[0m\u001b[0;34m\u001b[0m\u001b[0;34m\u001b[0m\u001b[0m\n\u001b[1;32m     63\u001b[0m         \u001b[0mold_w\u001b[0m \u001b[0;34m=\u001b[0m \u001b[0mnew_w\u001b[0m\u001b[0;34m\u001b[0m\u001b[0;34m\u001b[0m\u001b[0m\n",
      "\u001b[0;32m<ipython-input-9-c68e84a7c35e>\u001b[0m in \u001b[0;36mlogistic_gradient\u001b[0;34m(w, X, y)\u001b[0m\n\u001b[1;32m     40\u001b[0m         \u001b[0my_i\u001b[0m \u001b[0;34m=\u001b[0m \u001b[0my\u001b[0m\u001b[0;34m[\u001b[0m\u001b[0mi\u001b[0m\u001b[0;34m]\u001b[0m\u001b[0;34m\u001b[0m\u001b[0;34m\u001b[0m\u001b[0m\n\u001b[1;32m     41\u001b[0m         \u001b[0mX_i\u001b[0m \u001b[0;34m=\u001b[0m \u001b[0mX\u001b[0m\u001b[0;34m[\u001b[0m\u001b[0mi\u001b[0m\u001b[0;34m]\u001b[0m\u001b[0;34m\u001b[0m\u001b[0;34m\u001b[0m\u001b[0m\n\u001b[0;32m---> 42\u001b[0;31m         \u001b[0mmulti\u001b[0m \u001b[0;34m=\u001b[0m \u001b[0mnp\u001b[0m\u001b[0;34m.\u001b[0m\u001b[0mdot\u001b[0m\u001b[0;34m(\u001b[0m\u001b[0mw\u001b[0m\u001b[0;34m.\u001b[0m\u001b[0mtranspose\u001b[0m\u001b[0;34m(\u001b[0m\u001b[0;34m)\u001b[0m\u001b[0;34m,\u001b[0m\u001b[0mX_i\u001b[0m\u001b[0;34m)\u001b[0m\u001b[0;34m\u001b[0m\u001b[0;34m\u001b[0m\u001b[0m\n\u001b[0m\u001b[1;32m     43\u001b[0m         \u001b[0mval\u001b[0m \u001b[0;34m=\u001b[0m \u001b[0my_i\u001b[0m\u001b[0;34m*\u001b[0m\u001b[0mnp\u001b[0m\u001b[0;34m.\u001b[0m\u001b[0mmatmul\u001b[0m\u001b[0;34m(\u001b[0m\u001b[0mw\u001b[0m\u001b[0;34m.\u001b[0m\u001b[0mtranspose\u001b[0m\u001b[0;34m(\u001b[0m\u001b[0;34m)\u001b[0m\u001b[0;34m,\u001b[0m\u001b[0mX_i\u001b[0m\u001b[0;34m)\u001b[0m\u001b[0;34m\u001b[0m\u001b[0;34m\u001b[0m\u001b[0m\n\u001b[1;32m     44\u001b[0m         \u001b[0mden\u001b[0m \u001b[0;34m=\u001b[0m \u001b[0;36m1\u001b[0m\u001b[0;34m+\u001b[0m\u001b[0mnp\u001b[0m\u001b[0;34m.\u001b[0m\u001b[0mexp\u001b[0m\u001b[0;34m(\u001b[0m\u001b[0mval\u001b[0m\u001b[0;34m)\u001b[0m\u001b[0;34m\u001b[0m\u001b[0;34m\u001b[0m\u001b[0m\n",
      "\u001b[0;32m<__array_function__ internals>\u001b[0m in \u001b[0;36mdot\u001b[0;34m(*args, **kwargs)\u001b[0m\n",
      "\u001b[0;31mKeyboardInterrupt\u001b[0m: "
     ]
    }
   ],
   "source": [
    "# this is how we will test your results\n",
    "gd_result = run_gradient_descent(X,y)\n",
    "# is your result relatively close to the truth?\n",
    "np.abs(true_w-gd_result).sum()"
   ]
  },
  {
   "cell_type": "markdown",
   "id": "diagnostic-toddler",
   "metadata": {
    "id": "diagnostic-toddler"
   },
   "source": [
    "## <span style=\"color:red\"> 574 Only</span> Part 2.2 - Optimization with Newton-Raphson <span style=\"color:red\"> 574 Only</span>\n",
    "\n",
    "In Part 2.2, you are going to, instead of using gradient descent, use the Newton-Raphson method to optimize the same logistic regression model. To do so, you will need to 1) implement the `logistic_hessian` function to compute the Hessian matrix of logistic loss for the given data set, and 2) use `scipy`'s `optimize` function to perform the optimization, rather than writing a function by hand to do so.  \n",
    "\n",
    "For Part 2.2, you will only need to implement these functions, we will test them using our own code. You can, however, perform the same kinds of tests that we proposed above to check your work! "
   ]
  },
  {
   "cell_type": "code",
   "execution_count": 13,
   "id": "K0rQewlAr7D2",
   "metadata": {
    "id": "K0rQewlAr7D2"
   },
   "outputs": [],
   "source": [
    "def logistic_hessian(w, X, y):\n",
    "\n",
    "    # compute the Hessian of the log-loss error (matrix) with respect\n",
    "    # to w (vector) for the given data X and y                               \n",
    "    #\n",
    "    # Inputs:\n",
    "    # w = d x 1\n",
    "    # X = N x d\n",
    "    # y = N x 1\n",
    "    # Output:\n",
    "    # Hessian = d x d matrix\n",
    "    \n",
    "    \n",
    "    if len(w.shape) == 1:\n",
    "        w = w[:,np.newaxis]\n",
    "        \n",
    "        m = len(y)\n",
    "        xw=np.dot(X,w)\n",
    "        yxwt=np.matmul(xw.transpose(),y)\n",
    "        predictions=np.exp(yxwt)\n",
    "        xxt=np.matmul(X,X.transpose())\n",
    "        predsqr=(1+predictions)*(1+predictions)\n",
    "        hessian = (1/m)*((predictions*xxt)/predsqr)   \n",
    "            \n",
    "    # IMPLEMENT THIS METHOD - REMOVE THE NEXT LINE\n",
    "    #hessian = 0\n",
    "\n",
    "    return hessian"
   ]
  },
  {
   "cell_type": "code",
   "execution_count": 18,
   "id": "8lDfYhMjr0J2",
   "metadata": {
    "id": "8lDfYhMjr0J2"
   },
   "outputs": [],
   "source": [
    "from scipy.optimize import minimize\n",
    "\n",
    "def run_newton_raphson(X,y):\n",
    "    args = (X,y[:,np.newaxis])\n",
    "    opts = {'maxiter' : 50}    # Preferred value.    \n",
    "    w_init = np.zeros(X.shape[1])\n",
    "    # note: this is almost what you need, you just need to figure out what arguments are necessary here!\n",
    "    soln = minimize(#PUT_THE_RIGHT_ARGUMENTS_IN_HERE!\n",
    "                    logistic_objective,\n",
    "                    w_init,\n",
    "                    hess=logistic_hessian(w_init, X, y),\n",
    "                    x0=y,\n",
    "                    args=args,\n",
    "                    method='Newton-CG',\n",
    "                    options=opts,\n",
    "                    jac=none)\n",
    "    w = w[:,np.newaxis]\n",
    "    w = np.transpose(np.array(soln.x))\n",
    "    return w"
   ]
  },
  {
   "cell_type": "code",
   "execution_count": 20,
   "id": "liable-station",
   "metadata": {
    "colab": {
     "base_uri": "https://localhost:8080/",
     "height": 380
    },
    "id": "liable-station",
    "outputId": "7aeb2e75-ce09-4a53-bd69-58a39f0a5b63"
   },
   "outputs": [
    {
     "ename": "ValueError",
     "evalue": "ignored",
     "output_type": "error",
     "traceback": [
      "\u001b[0;31m---------------------------------------------------------------------------\u001b[0m",
      "\u001b[0;31mValueError\u001b[0m                                Traceback (most recent call last)",
      "\u001b[0;32m<ipython-input-20-9d71e68708bf>\u001b[0m in \u001b[0;36m<module>\u001b[0;34m()\u001b[0m\n\u001b[0;32m----> 1\u001b[0;31m \u001b[0mrun_newton_raphson\u001b[0m\u001b[0;34m(\u001b[0m\u001b[0mX\u001b[0m\u001b[0;34m,\u001b[0m\u001b[0my\u001b[0m\u001b[0;34m)\u001b[0m\u001b[0;34m\u001b[0m\u001b[0;34m\u001b[0m\u001b[0m\n\u001b[0m",
      "\u001b[0;32m<ipython-input-18-95c39a5f8c5a>\u001b[0m in \u001b[0;36mrun_newton_raphson\u001b[0;34m(X, y)\u001b[0m\n\u001b[1;32m     14\u001b[0m                     \u001b[0mmethod\u001b[0m\u001b[0;34m=\u001b[0m\u001b[0;34m'Newton-CG'\u001b[0m\u001b[0;34m,\u001b[0m\u001b[0;34m\u001b[0m\u001b[0;34m\u001b[0m\u001b[0m\n\u001b[1;32m     15\u001b[0m                     \u001b[0moptions\u001b[0m\u001b[0;34m=\u001b[0m\u001b[0mopts\u001b[0m\u001b[0;34m,\u001b[0m\u001b[0;34m\u001b[0m\u001b[0;34m\u001b[0m\u001b[0m\n\u001b[0;32m---> 16\u001b[0;31m                     jac=logistic_gradient)\n\u001b[0m\u001b[1;32m     17\u001b[0m     \u001b[0mw\u001b[0m \u001b[0;34m=\u001b[0m \u001b[0mw\u001b[0m\u001b[0;34m[\u001b[0m\u001b[0;34m:\u001b[0m\u001b[0;34m,\u001b[0m\u001b[0mnp\u001b[0m\u001b[0;34m.\u001b[0m\u001b[0mnewaxis\u001b[0m\u001b[0;34m]\u001b[0m\u001b[0;34m\u001b[0m\u001b[0;34m\u001b[0m\u001b[0m\n\u001b[1;32m     18\u001b[0m     \u001b[0mw\u001b[0m \u001b[0;34m=\u001b[0m \u001b[0mnp\u001b[0m\u001b[0;34m.\u001b[0m\u001b[0mtranspose\u001b[0m\u001b[0;34m(\u001b[0m\u001b[0mnp\u001b[0m\u001b[0;34m.\u001b[0m\u001b[0marray\u001b[0m\u001b[0;34m(\u001b[0m\u001b[0msoln\u001b[0m\u001b[0;34m.\u001b[0m\u001b[0mx\u001b[0m\u001b[0;34m)\u001b[0m\u001b[0;34m)\u001b[0m\u001b[0;34m\u001b[0m\u001b[0;34m\u001b[0m\u001b[0m\n",
      "\u001b[0;32m/usr/local/lib/python3.7/dist-packages/scipy/optimize/_minimize.py\u001b[0m in \u001b[0;36mminimize\u001b[0;34m(fun, x0, args, method, jac, hess, hessp, bounds, constraints, tol, callback, options)\u001b[0m\n\u001b[1;32m    605\u001b[0m     \u001b[0;32melif\u001b[0m \u001b[0mmeth\u001b[0m \u001b[0;34m==\u001b[0m \u001b[0;34m'newton-cg'\u001b[0m\u001b[0;34m:\u001b[0m\u001b[0;34m\u001b[0m\u001b[0;34m\u001b[0m\u001b[0m\n\u001b[1;32m    606\u001b[0m         return _minimize_newtoncg(fun, x0, args, jac, hess, hessp, callback,\n\u001b[0;32m--> 607\u001b[0;31m                                   **options)\n\u001b[0m\u001b[1;32m    608\u001b[0m     \u001b[0;32melif\u001b[0m \u001b[0mmeth\u001b[0m \u001b[0;34m==\u001b[0m \u001b[0;34m'l-bfgs-b'\u001b[0m\u001b[0;34m:\u001b[0m\u001b[0;34m\u001b[0m\u001b[0;34m\u001b[0m\u001b[0m\n\u001b[1;32m    609\u001b[0m         return _minimize_lbfgsb(fun, x0, args, jac, bounds,\n",
      "\u001b[0;32m/usr/local/lib/python3.7/dist-packages/scipy/optimize/optimize.py\u001b[0m in \u001b[0;36m_minimize_newtoncg\u001b[0;34m(fun, x0, args, jac, hess, hessp, callback, xtol, eps, maxiter, disp, return_all, **unknown_options)\u001b[0m\n\u001b[1;32m   1619\u001b[0m                     \u001b[0mhcalls\u001b[0m \u001b[0;34m=\u001b[0m \u001b[0mhcalls\u001b[0m \u001b[0;34m+\u001b[0m \u001b[0;36m1\u001b[0m\u001b[0;34m\u001b[0m\u001b[0;34m\u001b[0m\u001b[0m\n\u001b[1;32m   1620\u001b[0m             \u001b[0;32melse\u001b[0m\u001b[0;34m:\u001b[0m\u001b[0;34m\u001b[0m\u001b[0;34m\u001b[0m\u001b[0m\n\u001b[0;32m-> 1621\u001b[0;31m                 \u001b[0mAp\u001b[0m \u001b[0;34m=\u001b[0m \u001b[0mnumpy\u001b[0m\u001b[0;34m.\u001b[0m\u001b[0mdot\u001b[0m\u001b[0;34m(\u001b[0m\u001b[0mA\u001b[0m\u001b[0;34m,\u001b[0m \u001b[0mpsupi\u001b[0m\u001b[0;34m)\u001b[0m\u001b[0;34m\u001b[0m\u001b[0;34m\u001b[0m\u001b[0m\n\u001b[0m\u001b[1;32m   1622\u001b[0m             \u001b[0;31m# check curvature\u001b[0m\u001b[0;34m\u001b[0m\u001b[0;34m\u001b[0m\u001b[0;34m\u001b[0m\u001b[0m\n\u001b[1;32m   1623\u001b[0m             \u001b[0mAp\u001b[0m \u001b[0;34m=\u001b[0m \u001b[0masarray\u001b[0m\u001b[0;34m(\u001b[0m\u001b[0mAp\u001b[0m\u001b[0;34m)\u001b[0m\u001b[0;34m.\u001b[0m\u001b[0msqueeze\u001b[0m\u001b[0;34m(\u001b[0m\u001b[0;34m)\u001b[0m  \u001b[0;31m# get rid of matrices...\u001b[0m\u001b[0;34m\u001b[0m\u001b[0;34m\u001b[0m\u001b[0m\n",
      "\u001b[0;32m<__array_function__ internals>\u001b[0m in \u001b[0;36mdot\u001b[0;34m(*args, **kwargs)\u001b[0m\n",
      "\u001b[0;31mValueError\u001b[0m: shapes (10000,10000) and (3,) not aligned: 10000 (dim 1) != 3 (dim 0)"
     ]
    }
   ],
   "source": [
    "run_newton_raphson(X,y)"
   ]
  }
 ],
 "metadata": {
  "colab": {
   "name": "copy.ipynb",
   "provenance": []
  },
  "kernelspec": {
   "display_name": "Python 3 (ipykernel)",
   "language": "python",
   "name": "python3"
  },
  "language_info": {
   "codemirror_mode": {
    "name": "ipython",
    "version": 3
   },
   "file_extension": ".py",
   "mimetype": "text/x-python",
   "name": "python",
   "nbconvert_exporter": "python",
   "pygments_lexer": "ipython3",
   "version": "3.10.4"
  }
 },
 "nbformat": 4,
 "nbformat_minor": 5
}
